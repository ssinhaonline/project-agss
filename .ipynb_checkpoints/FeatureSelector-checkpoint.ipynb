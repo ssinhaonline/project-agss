{
 "cells": [
  {
   "cell_type": "code",
   "execution_count": 14,
   "metadata": {
    "collapsed": false
   },
   "outputs": [],
   "source": [
    "from pymongo import MongoClient\n",
    "\n",
    "connection = MongoClient('mongodb://localhost:27017')\n",
    "db = connection['brexit']\n",
    "twitter_collection = db['twitter_collection']\n",
    "refined_collection = db['refined_collection']\n",
    "\n",
    "twitter_cur = twitter_collection.find({},          {'_id' : 1, \n",
    "                                                    'text' : 1, \n",
    "                                                    'favorite_count' : 1,\n",
    "                                                    'retweet_count' : 1,\n",
    "                                                    'timestamp_ms' : 1,\n",
    "                                                    'entities.hashtags.text' : 1,\n",
    "                                                    'user.id' : 1,\n",
    "                                                    'user.followers_count' : 1,\n",
    "                                                    'user.description' : 1,\n",
    "                                                    'user.friends_count' : 1,\n",
    "                                                    'user.location' : 1,\n",
    "                                                    'user.time_zone' : 1})\n",
    "\n",
    "\n",
    "for record in twitter_cur:\n",
    "    new_record = dict()\n",
    "    \n",
    "    new_record['master_db_id'] = str(record['_id'])\n",
    "    try:\n",
    "        new_record['tweet_text'] = record['text']\n",
    "    except:\n",
    "        pass\n",
    "    try:\n",
    "        new_record['tweet_favorite_count'] = record['favorite_count']\n",
    "    except:\n",
    "        pass\n",
    "    try:\n",
    "        new_record['tweet_retweet_count'] = record['retweet_count']\n",
    "    except:\n",
    "        pass\n",
    "    try:\n",
    "        new_record['tweet_timestamp'] = record['timestamp_ms']\n",
    "    except:\n",
    "        pass\n",
    "    try:\n",
    "        new_record['user_id'] = record['user']['id']\n",
    "    except:\n",
    "        pass\n",
    "    try:\n",
    "        new_record['user_followers_count'] = record['user']['followers_count']\n",
    "    except:\n",
    "        pass\n",
    "    try:\n",
    "        new_record['user_description'] = record['user']['description']\n",
    "    except:\n",
    "        pass\n",
    "    try:\n",
    "        new_record['user_friends_count'] = record['user']['friends_count']\n",
    "    except:\n",
    "        pass\n",
    "    try:\n",
    "        new_record['user_location'] = record['user']['location']\n",
    "    except:\n",
    "        pass\n",
    "    try:\n",
    "        new_record['user_timezone'] = record['user']['time_zone']\n",
    "    except:\n",
    "        pass\n",
    "    try:\n",
    "        tweet_hashtags_docs = record['entities']['hashtags']\n",
    "        if len(tweet_hashtags_docs) > 0:\n",
    "            tweet_hashtags = list()\n",
    "            for doc in tweet_hashtags_docs:\n",
    "                tweet_hashtags.append(doc['text'])\n",
    "            new_record['hashtags'] = tweet_hashtags\n",
    "    except:\n",
    "        pass\n",
    "        \n",
    "    refined_collection.insert_one(new_record)"
   ]
  },
  {
   "cell_type": "code",
   "execution_count": null,
   "metadata": {
    "collapsed": true
   },
   "outputs": [],
   "source": []
  },
  {
   "cell_type": "code",
   "execution_count": null,
   "metadata": {
    "collapsed": true
   },
   "outputs": [],
   "source": []
  }
 ],
 "metadata": {
  "kernelspec": {
   "display_name": "Python 2",
   "language": "python",
   "name": "python2"
  },
  "language_info": {
   "codemirror_mode": {
    "name": "ipython",
    "version": 2
   },
   "file_extension": ".py",
   "mimetype": "text/x-python",
   "name": "python",
   "nbconvert_exporter": "python",
   "pygments_lexer": "ipython2",
   "version": "2.7.11"
  }
 },
 "nbformat": 4,
 "nbformat_minor": 0
}
